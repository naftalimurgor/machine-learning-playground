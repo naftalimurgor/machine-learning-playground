{
 "cells": [
  {
   "attachments": {},
   "cell_type": "markdown",
   "metadata": {},
   "source": [
    "## Linear Regressions and  Logical Regressions\n",
    "\n"
   ]
  },
  {
   "attachments": {},
   "cell_type": "markdown",
   "metadata": {},
   "source": [
    "Linear regressions are used to predict continuous values."
   ]
  },
  {
   "attachments": {},
   "cell_type": "markdown",
   "metadata": {},
   "source": [
    "### Regression analysis"
   ]
  },
  {
   "attachments": {},
   "cell_type": "markdown",
   "metadata": {},
   "source": [
    "- Regression analysis is used for predicting and forecasting\n",
    "- Regression analysis can be used to predict relationship between dependent and independent variables"
   ]
  },
  {
   "attachments": {},
   "cell_type": "markdown",
   "metadata": {},
   "source": [
    "### What is linear Regression?\n",
    "\n",
    "**Linear regression** is a statistical model used to predict the relationship between independent and dependent variables\n",
    "\n",
    "An example would be, predicting the crop yield(Dependent variable) based on amount of Rainfall(independent variable)"
   ]
  },
  {
   "attachments": {},
   "cell_type": "markdown",
   "metadata": {},
   "source": [
    "> Types of Linear Regressions:\n",
    "- **Simple Linear Regression**: this model that estimates the relationship between on independent variable and dependent variable using a straight line.\n",
    "- **Multiple Linear Regression**: this model is used to analyze the relationship between two or more independent variables and a single dependent variable or target variable "
   ]
  },
  {
   "attachments": {},
   "cell_type": "markdown",
   "metadata": {},
   "source": [
    "### Machine learning algorithms for Linear regressions"
   ]
  },
  {
   "attachments": {},
   "cell_type": "markdown",
   "metadata": {},
   "source": [
    "Some uses of linear Regressions:\n",
    "- Predicting the GDP of a country\n",
    "- Predicting the outcomes of a crop yield"
   ]
  },
  {
   "attachments": {},
   "cell_type": "markdown",
   "metadata": {},
   "source": [
    "There three Machine Learning algorithms for working with Linear Regressions:\n",
    "- Supervised - Data and answers are already there to be used to find the answer(prediction)\n",
    "- Unsupervised - applies to nonlinear regressions\n",
    "- Reinforcement- The answer provided is either positive or negative feedback based on the variables provided."
   ]
  },
  {
   "attachments": {},
   "cell_type": "markdown",
   "metadata": {},
   "source": [
    "#### Linear Regression quick example"
   ]
  },
  {
   "attachments": {},
   "cell_type": "markdown",
   "metadata": {},
   "source": [
    "#### A simple Regression Equation\n",
    "\n",
    "The simplest form of the regression is the `y=m*x + C`, whereby one dependent variable(y) is dependent on an independent on (x)"
   ]
  },
  {
   "attachments": {},
   "cell_type": "markdown",
   "metadata": {},
   "source": []
  },
  {
   "cell_type": "code",
   "execution_count": 1,
   "metadata": {},
   "outputs": [],
   "source": [
    "import numpy as np\n",
    "import matplotlib.pyplot as plt\n",
    "import pandas as pd\n",
    "import seaborn as sns\n",
    "\n",
    "data_frame = pd.read_csv('1000_Companies')\n",
    "print(data_frame.to_string())"
   ]
  },
  {
   "cell_type": "code",
   "execution_count": null,
   "metadata": {},
   "outputs": [],
   "source": []
  },
  {
   "cell_type": "code",
   "execution_count": null,
   "metadata": {},
   "outputs": [],
   "source": []
  },
  {
   "cell_type": "code",
   "execution_count": null,
   "metadata": {},
   "outputs": [],
   "source": []
  }
 ],
 "metadata": {
  "kernelspec": {
   "display_name": "Python 3 (ipykernel)",
   "language": "python",
   "name": "python3"
  },
  "language_info": {
   "codemirror_mode": {
    "name": "ipython",
    "version": 3
   },
   "file_extension": ".py",
   "mimetype": "text/x-python",
   "name": "python",
   "nbconvert_exporter": "python",
   "pygments_lexer": "ipython3",
   "version": "3.11.3"
  }
 },
 "nbformat": 4,
 "nbformat_minor": 4
}
