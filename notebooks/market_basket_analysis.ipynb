{
  "cells": [
    {
      "cell_type": "markdown",
      "metadata": {
        "id": "WYW4K3q96cfl"
      },
      "source": [
        "BRIEF:\n",
        "\n",
        "By running this code with the given dataset, you can uncover associations and patterns within the transaction data. These findings can be valuable for various applications, including market basket analysis, recommendation systems, and targeted marketing strategies. The insights gained from the frequent itemsets and association rules can help businesses understand customer behavior, improve product recommendations, optimize inventory management, and develop targeted marketing campaigns to enhance customer satisfaction and increase profitability.\n",
        "\n",
        "\n",
        "The purpose of the provided code is to analyze a transaction dataset using Tensorflow and mine association rules. The dataset contains information about transactions recorded over a specific period of time and includes various attributes such as transaction date, transaction amount, merchant name, category, location, age, gender, employment status, marital status, and product.\n",
        "\n",
        "The code performs the following steps:\n",
        "\n",
        "Loading the transaction dataset from a CSV file: The code reads the dataset from a CSV file, which contains information about each transaction.\n",
        "\n",
        "Preprocessing the transaction data: The transaction data is preprocessed to ensure it is in a suitable format for analysis. This step involves cleaning the data, handling missing values, and transforming the data into a format that can be used by the Apriori algorithm.\n",
        "\n",
        "Applying the Apriori algorithm: The code utilizes the Apriori algorithm to identify frequent itemsets from the transaction data. Frequent itemsets are sets of items (in this case, transaction categories) that appear together frequently in the transactions. The algorithm scans the dataset multiple times, gradually increasing the itemset size to find the most frequent itemsets.\n",
        "\n",
        "Generating association rules: From the frequent itemsets, the code generates association rules. Association rules reveal relationships between different transaction categories and provide insights into potential purchasing patterns. These rules consist of an antecedent (a set of items/categories) and a consequent (another item/category). The rules indicate that if the antecedent is present in a transaction, the consequent is likely to be present as well.\n",
        "\n",
        "Printing the discovered frequent itemsets and association rules: The code outputs the discovered frequent itemsets and association rules. This information can be analyzed and interpreted to understand the relationships between different transaction categories. For example, it can reveal which categories frequently co-occur in transactions or which categories are associated with specific merchants."
      ]
    },
    {
      "cell_type": "markdown",
      "metadata": {
        "id": "yit5EpxC5hNw"
      },
      "source": [
        "Import the necessary modules and functions (os, pandas, TransactionEncoder, apriori, association_rules) for data processing and association rule mining.\n"
      ]
    },
    {
      "cell_type": "markdown",
      "metadata": {
        "id": "90Noanle7s9J"
      },
      "source": [
        "Import the necessary modules and functions (os, pandas, TransactionEncoder, apriori, association_rules) for data processing and association rule mining.\n"
      ]
    },
    {
      "cell_type": "code",
      "execution_count": 11,
      "metadata": {
        "id": "GcaP9lGO58jO"
      },
      "outputs": [],
      "source": [
        "import os\n",
        "import pandas as pd\n",
        "from mlxtend.frequent_patterns import apriori, association_rules\n",
        "from mlxtend.preprocessing import TransactionEncoder\n",
        "from IPython.display import display, FileLink\n",
        "import matplotlib.pyplot as plt"
      ]
    },
    {
      "cell_type": "markdown",
      "metadata": {
        "id": "tAviYK-l5oRi"
      },
      "source": [
        "\n",
        "Get the current working directory using os.getcwd().\n"
      ]
    },
    {
      "cell_type": "code",
      "execution_count": 2,
      "metadata": {
        "id": "oLA5NN_w6APt"
      },
      "outputs": [],
      "source": [
        "# Step 1: Get the current working directory\n",
        "current_directory = os.getcwd()"
      ]
    },
    {
      "cell_type": "markdown",
      "metadata": {
        "id": "3TPZSWLv5qB7"
      },
      "source": [
        "\n",
        "Join the current directory path with the CSV file name to create the file path.\n"
      ]
    },
    {
      "cell_type": "code",
      "execution_count": 3,
      "metadata": {
        "id": "w63gW_Wx6DRN"
      },
      "outputs": [],
      "source": [
        "#Step 2: The code below is used to get custom data that have been uploaded. This file is linked using google drive.\n",
        "csv_file_path = os.path.join(current_directory, 'market_basket_analysis.csv')"
      ]
    },
    {
      "cell_type": "markdown",
      "metadata": {
        "id": "2Q-wdyD35riR"
      },
      "source": [
        "\n",
        "Load the CSV file using Pandas and store the data in the transaction_data variable.\n"
      ]
    },
    {
      "cell_type": "code",
      "execution_count": 4,
      "metadata": {
        "colab": {
          "base_uri": "https://localhost:8080/"
        },
        "id": "matzrEzn6Ish",
        "outputId": "dd571fd3-4b78-4786-f1ba-303cf51a6bcf"
      },
      "outputs": [
        {
          "output_type": "execute_result",
          "data": {
            "text/plain": [
              "<bound method DataFrame.info of     transaction_date transaction_amount merchant_name      category  \\\n",
              "0                  1           6/6/2023           100       Walmart   \n",
              "1                  2           6/6/2023            50     Starbucks   \n",
              "2                  3           6/6/2023            20       Netflix   \n",
              "3                  4           6/6/2023            10   Gas Station   \n",
              "4                  5           6/6/2023            30        Amazon   \n",
              "5                  6           6/7/2023            80     Carrefour   \n",
              "6                  7           6/7/2023            15  Cafe Delight   \n",
              "7                  8           6/7/2023            50       Netflix   \n",
              "8                  9           6/7/2023            15   Gas Station   \n",
              "9                 10           6/7/2023            25        Amazon   \n",
              "10                11                ...           ...           ...   \n",
              "11                12           6/6/2023           100       Walmart   \n",
              "12                13           6/6/2023            50     Starbucks   \n",
              "13                14           6/6/2023            20       Netflix   \n",
              "14                15           6/6/2023            10   Gas Station   \n",
              "15                16           6/6/2023            30        Amazon   \n",
              "16                17           6/7/2023            80     Carrefour   \n",
              "17                18           6/7/2023            15  Cafe Delight   \n",
              "18                19           6/7/2023            50       Netflix   \n",
              "19                20           6/7/2023            15   Gas Station   \n",
              "20                21           6/7/2023            25        Amazon   \n",
              "21                22          6/16/2023            60     Carrefour   \n",
              "22                23          6/16/2023            20  Cafe Delight   \n",
              "23                24          6/16/2023            25       Netflix   \n",
              "24                25          6/16/2023            15   Gas Station   \n",
              "25                26          6/16/2023            35        Amazon   \n",
              "26                27          6/17/2023            70       Walmart   \n",
              "27                28          6/17/2023            25     Starbucks   \n",
              "28                29          6/17/2023            40       Netflix   \n",
              "29                30          6/17/2023            10   Gas Station   \n",
              "30                31          6/17/2023            50        Amazon   \n",
              "31                32          6/18/2023            45     Carrefour   \n",
              "32                33          6/18/2023            15  Cafe Delight   \n",
              "33                34          6/18/2023            30       Netflix   \n",
              "34                35          6/18/2023            10   Gas Station   \n",
              "35                36          6/18/2023            20        Amazon   \n",
              "36                37          6/19/2023            30       Walmart   \n",
              "37                38          6/19/2023            20     Starbucks   \n",
              "38                39          6/19/2023            50       Netflix   \n",
              "39                40          6/19/2023            10   Gas Station   \n",
              "40                41          6/19/2023            40        Amazon   \n",
              "41                42          6/20/2023            80     Carrefour   \n",
              "42                43          6/20/2023            25  Cafe Delight   \n",
              "43                44          6/20/2023            20       Netflix   \n",
              "44                45          6/20/2023            10   Gas Station   \n",
              "45                46          6/20/2023            30        Amazon   \n",
              "\n",
              "     location      age gender employment_status marital_status  product  \\\n",
              "0   Groceries  Nairobi     32              Male       Employed   Single   \n",
              "1      Coffee  Mombasa     45            Female  Self-employed  Married   \n",
              "2   Streaming  Nairobi     28            Female       Employed   Single   \n",
              "3         Gas   Nakuru     38              Male       Employed  Married   \n",
              "4    Shopping  Eldoret     26            Female        Student   Single   \n",
              "5   Groceries  Nairobi     34            Female       Employed  Married   \n",
              "6      Coffee  Mombasa     42              Male  Self-employed   Single   \n",
              "7   Streaming  Nairobi     31              Male       Employed  Married   \n",
              "8         Gas   Nakuru     39            Female       Employed   Single   \n",
              "9    Shopping  Eldoret     29            Female        Student   Single   \n",
              "10        ...      ...    ...               ...            ...      ...   \n",
              "11  Groceries  Nairobi     32              Male       Employed   Single   \n",
              "12     Coffee  Mombasa     45            Female  Self-employed  Married   \n",
              "13  Streaming  Nairobi     28            Female       Employed   Single   \n",
              "14        Gas   Nakuru     38              Male       Employed  Married   \n",
              "15   Shopping  Eldoret     26            Female        Student   Single   \n",
              "16  Groceries  Nairobi     34            Female       Employed  Married   \n",
              "17     Coffee  Mombasa     42              Male  Self-employed   Single   \n",
              "18  Streaming  Nairobi     31              Male       Employed  Married   \n",
              "19        Gas   Nakuru     39            Female       Employed   Single   \n",
              "20   Shopping  Eldoret     29            Female        Student   Single   \n",
              "21  Groceries  Nairobi     27            Female       Employed   Single   \n",
              "22     Coffee  Mombasa     36              Male  Self-employed  Married   \n",
              "23  Streaming  Nairobi     33            Female       Employed   Single   \n",
              "24        Gas   Nakuru     42              Male       Employed  Married   \n",
              "25   Shopping  Eldoret     29            Female        Student   Single   \n",
              "26  Groceries  Nairobi     31              Male       Employed   Single   \n",
              "27     Coffee  Mombasa     40            Female  Self-employed  Married   \n",
              "28  Streaming  Nairobi     29            Female       Employed   Single   \n",
              "29        Gas   Nakuru     35              Male       Employed  Married   \n",
              "30   Shopping  Eldoret     27            Female        Student   Single   \n",
              "31  Groceries  Nairobi     36            Female       Employed   Single   \n",
              "32     Coffee  Mombasa     43              Male  Self-employed  Married   \n",
              "33  Streaming  Nairobi     28            Female       Employed   Single   \n",
              "34        Gas   Nakuru     39              Male       Employed   Single   \n",
              "35   Shopping  Eldoret     30            Female        Student   Single   \n",
              "36  Groceries  Nairobi     32              Male       Employed   Single   \n",
              "37     Coffee  Mombasa     39            Female  Self-employed  Married   \n",
              "38  Streaming  Nairobi     27            Female       Employed   Single   \n",
              "39        Gas   Nakuru     44              Male       Employed  Married   \n",
              "40   Shopping  Eldoret     33            Female        Student   Single   \n",
              "41  Groceries  Nairobi     37            Female       Employed   Single   \n",
              "42     Coffee  Mombasa     41              Male  Self-employed  Married   \n",
              "43  Streaming  Nairobi     28            Female       Employed   Single   \n",
              "44        Gas   Nakuru     37              Male       Employed   Single   \n",
              "45   Shopping  Eldoret     31            Female        Student   Single   \n",
              "\n",
              "    Unnamed: 10  \n",
              "0          Rice  \n",
              "1        Coffee  \n",
              "2         Movie  \n",
              "3          Fuel  \n",
              "4          Book  \n",
              "5    Vegetables  \n",
              "6           Tea  \n",
              "7        Series  \n",
              "8        Snacks  \n",
              "9   Electronics  \n",
              "10          ...  \n",
              "11         Rice  \n",
              "12       Coffee  \n",
              "13        Movie  \n",
              "14         Fuel  \n",
              "15         Book  \n",
              "16   Vegetables  \n",
              "17          Tea  \n",
              "18       Series  \n",
              "19       Snacks  \n",
              "20  Electronics  \n",
              "21       Fruits  \n",
              "22     Espresso  \n",
              "23    TV Series  \n",
              "24       Snacks  \n",
              "25     Clothing  \n",
              "26       Cereal  \n",
              "27        Latte  \n",
              "28  Documentary  \n",
              "29     Car Wash  \n",
              "30       Beauty  \n",
              "31         Meat  \n",
              "32   Cappuccino  \n",
              "33        Movie  \n",
              "34       Drinks  \n",
              "35  Electronics  \n",
              "36   Vegetables  \n",
              "37  Iced Coffee  \n",
              "38    TV Series  \n",
              "39       Snacks  \n",
              "40         Toys  \n",
              "41       Fruits  \n",
              "42    Americano  \n",
              "43        Movie  \n",
              "44       Drinks  \n",
              "45     Clothing  >"
            ]
          },
          "metadata": {},
          "execution_count": 4
        }
      ],
      "source": [
        "# Step 3: Load the CSV file using Pandas\n",
        "transaction_data = pd.read_csv(csv_file_path)\n",
        "transaction_data.info"
      ]
    },
    {
      "cell_type": "markdown",
      "metadata": {
        "id": "zlZWVg2L5tAi"
      },
      "source": [
        "\n",
        "Convert the transaction data to a list format using .values.tolist(). This step prepares the data for further processing.\n"
      ]
    },
    {
      "cell_type": "code",
      "execution_count": 5,
      "metadata": {
        "id": "lnvksMxu6Kch"
      },
      "outputs": [],
      "source": [
        "# Step 4: Preprocess the transaction data\n",
        "transaction_list = transaction_data.values.tolist()"
      ]
    },
    {
      "cell_type": "markdown",
      "metadata": {
        "id": "bkSfEuQO5uO5"
      },
      "source": [
        "\n",
        "Convert each item in the transaction data to a string format. This is necessary to ensure all items are in a consistent format for the TransactionEncoder to handle.\n"
      ]
    },
    {
      "cell_type": "code",
      "execution_count": 6,
      "metadata": {
        "id": "sEfcQ-mx8ze-"
      },
      "outputs": [],
      "source": [
        "# Step 5: Convert the transaction data to a string format\n",
        "transaction_list = [[str(item) for item in transaction] for transaction in transaction_list]"
      ]
    },
    {
      "cell_type": "markdown",
      "metadata": {
        "id": "Lmf9_cBX5vtZ"
      },
      "source": [
        "\n",
        "Create an instance of TransactionEncoder and encode the transaction data into a binary matrix using te.fit_transform(). This step transforms the transaction data into a format suitable for the Apriori algorithm.\n"
      ]
    },
    {
      "cell_type": "code",
      "execution_count": 7,
      "metadata": {
        "id": "JVP6g3aK6QDQ"
      },
      "outputs": [],
      "source": [
        "# Step 6: Encode the transaction data into a binary matrix\n",
        "te = TransactionEncoder()\n",
        "te_ary = te.fit_transform(transaction_list)\n",
        "transaction_df = pd.DataFrame(te_ary, columns=te.columns_)"
      ]
    },
    {
      "cell_type": "markdown",
      "metadata": {
        "id": "IpxQfhTj5y1x"
      },
      "source": [
        "\n",
        "Apply the Apriori algorithm to find frequent itemsets using apriori(). Specify the minimum support threshold (min_support) and set use_colnames=True to use column names from the transaction data."
      ]
    },
    {
      "cell_type": "code",
      "execution_count": 8,
      "metadata": {
        "id": "DXcEI_zj6Ttf"
      },
      "outputs": [],
      "source": [
        "# Step 7: Apply the Apriori algorithm to find frequent itemsets\n",
        "frequent_itemsets = apriori(transaction_df, min_support=0.1, use_colnames=True)"
      ]
    },
    {
      "cell_type": "markdown",
      "metadata": {
        "id": "AcgeG5Y_6Zuw"
      },
      "source": [
        "\n",
        "Generate association rules from the frequent itemsets using association_rules(). Specify the desired metric for rule evaluation (metric) and set the minimum threshold for the metric (min_threshold)."
      ]
    },
    {
      "cell_type": "code",
      "execution_count": 9,
      "metadata": {
        "id": "1DQWAiES6mr9"
      },
      "outputs": [],
      "source": [
        "# Step 8: Generate association rules from the frequent itemsets\n",
        "rules = association_rules(frequent_itemsets, metric=\"confidence\", min_threshold=0.7)"
      ]
    },
    {
      "cell_type": "markdown",
      "metadata": {
        "id": "VvvrZZrr6bl8"
      },
      "source": [
        "Print the frequent itemsets using print(frequent_itemsets)."
      ]
    },
    {
      "cell_type": "code",
      "execution_count": 14,
      "metadata": {
        "colab": {
          "base_uri": "https://localhost:8080/",
          "height": 896
        },
        "id": "QCzDGAtj6j7N",
        "outputId": "d2ac7881-894b-4363-b4fb-17f61abcc99c"
      },
      "outputs": [
        {
          "output_type": "display_data",
          "data": {
            "text/plain": [
              "<Figure size 640x480 with 1 Axes>"
            ],
            "image/png": "[encoded data removed]"
          },
          "metadata": {}
        },
        {
          "output_type": "stream",
          "name": "stdout",
          "text": [
            "Frequent Itemsets:\n"
          ]
        },
        {
          "output_type": "display_data",
          "data": {
            "text/plain": [
              "      support                                           itemsets\n",
              "0    0.152174                                               (10)\n",
              "1    0.152174                                               (15)\n",
              "2    0.152174                                               (20)\n",
              "3    0.130435                                               (25)\n",
              "4    0.108696                                               (28)\n",
              "..        ...                                                ...\n",
              "311  0.108696          (Married, Male, Gas, Nakuru, Gas Station)\n",
              "312  0.130435     (10, Employed, Nakuru, Male, Gas, Gas Station)\n",
              "313  0.195652  (Eldoret, Shopping, Amazon, Female, Student, S...\n",
              "314  0.152174  (Employed, Netflix, Nairobi, Female, Streaming...\n",
              "315  0.108696  (Employed, Nakuru, Married, Male, Gas, Gas Sta...\n",
              "\n",
              "[316 rows x 2 columns]"
            ],
            "text/html": [
              "\n",
              "  <div id=\"df-6e2e1429-3f52-4e31-a66e-681d591f25dc\">\n",
              "    <div class=\"colab-df-container\">\n",
              "      <div>\n",
              "<style scoped>\n",
              "    .dataframe tbody tr th:only-of-type {\n",
              "        vertical-align: middle;\n",
              "    }\n",
              "\n",
              "    .dataframe tbody tr th {\n",
              "        vertical-align: top;\n",
              "    }\n",
              "\n",
              "    .dataframe thead th {\n",
              "        text-align: right;\n",
              "    }\n",
              "</style>\n",
              "<table border=\"1\" class=\"dataframe\">\n",
              "  <thead>\n",
              "    <tr style=\"text-align: right;\">\n",
              "      <th></th>\n",
              "      <th>support</th>\n",
              "      <th>itemsets</th>\n",
              "    </tr>\n",
              "  </thead>\n",
              "  <tbody>\n",
              "    <tr>\n",
              "      <th>0</th>\n",
              "      <td>0.152174</td>\n",
              "      <td>(10)</td>\n",
              "    </tr>\n",
              "    <tr>\n",
              "      <th>1</th>\n",
              "      <td>0.152174</td>\n",
              "      <td>(15)</td>\n",
              "    </tr>\n",
              "    <tr>\n",
              "      <th>2</th>\n",
              "      <td>0.152174</td>\n",
              "      <td>(20)</td>\n",
              "    </tr>\n",
              "    <tr>\n",
              "      <th>3</th>\n",
              "      <td>0.130435</td>\n",
              "      <td>(25)</td>\n",
              "    </tr>\n",
              "    <tr>\n",
              "      <th>4</th>\n",
              "      <td>0.108696</td>\n",
              "      <td>(28)</td>\n",
              "    </tr>\n",
              "    <tr>\n",
              "      <th>...</th>\n",
              "      <td>...</td>\n",
              "      <td>...</td>\n",
              "    </tr>\n",
              "    <tr>\n",
              "      <th>311</th>\n",
              "      <td>0.108696</td>\n",
              "      <td>(Married, Male, Gas, Nakuru, Gas Station)</td>\n",
              "    </tr>\n",
              "    <tr>\n",
              "      <th>312</th>\n",
              "      <td>0.130435</td>\n",
              "      <td>(10, Employed, Nakuru, Male, Gas, Gas Station)</td>\n",
              "    </tr>\n",
              "    <tr>\n",
              "      <th>313</th>\n",
              "      <td>0.195652</td>\n",
              "      <td>(Eldoret, Shopping, Amazon, Female, Student, S...</td>\n",
              "    </tr>\n",
              "    <tr>\n",
              "      <th>314</th>\n",
              "      <td>0.152174</td>\n",
              "      <td>(Employed, Netflix, Nairobi, Female, Streaming...</td>\n",
              "    </tr>\n",
              "    <tr>\n",
              "      <th>315</th>\n",
              "      <td>0.108696</td>\n",
              "      <td>(Employed, Nakuru, Married, Male, Gas, Gas Sta...</td>\n",
              "    </tr>\n",
              "  </tbody>\n",
              "</table>\n",
              "<p>316 rows × 2 columns</p>\n",
              "</div>\n",
              "      <button class=\"colab-df-convert\" onclick=\"convertToInteractive('df-6e2e1429-3f52-4e31-a66e-681d591f25dc')\"\n",
              "              title=\"Convert this dataframe to an interactive table.\"\n",
              "              style=\"display:none;\">\n",
              "        \n",
              "  <svg xmlns=\"http://www.w3.org/2000/svg\" height=\"24px\"viewBox=\"0 0 24 24\"\n",
              "       width=\"24px\">\n",
              "    <path d=\"M0 0h24v24H0V0z\" fill=\"none\"/>\n",
              "    <path d=\"M18.56 5.44l.94 2.06.94-2.06 2.06-.94-2.06-.94-.94-2.06-.94 2.06-2.06.94zm-11 1L8.5 8.5l.94-2.06 2.06-.94-2.06-.94L8.5 2.5l-.94 2.06-2.06.94zm10 10l.94 2.06.94-2.06 2.06-.94-2.06-.94-.94-2.06-.94 2.06-2.06.94z\"/><path d=\"M17.41 7.96l-1.37-1.37c-.4-.4-.92-.59-1.43-.59-.52 0-1.04.2-1.43.59L10.3 9.45l-7.72 7.72c-.78.78-.78 2.05 0 2.83L4 21.41c.39.39.9.59 1.41.59.51 0 1.02-.2 1.41-.59l7.78-7.78 2.81-2.81c.8-.78.8-2.07 0-2.86zM5.41 20L4 18.59l7.72-7.72 1.47 1.35L5.41 20z\"/>\n",
              "  </svg>\n",
              "      </button>\n",
              "      \n",
              "  <style>\n",
              "    .colab-df-container {\n",
              "      display:flex;\n",
              "      flex-wrap:wrap;\n",
              "      gap: 12px;\n",
              "    }\n",
              "\n",
              "    .colab-df-convert {\n",
              "      background-color: #E8F0FE;\n",
              "      border: none;\n",
              "      border-radius: 50%;\n",
              "      cursor: pointer;\n",
              "      display: none;\n",
              "      fill: #1967D2;\n",
              "      height: 32px;\n",
              "      padding: 0 0 0 0;\n",
              "      width: 32px;\n",
              "    }\n",
              "\n",
              "    .colab-df-convert:hover {\n",
              "      background-color: #E2EBFA;\n",
              "      box-shadow: 0px 1px 2px rgba(60, 64, 67, 0.3), 0px 1px 3px 1px rgba(60, 64, 67, 0.15);\n",
              "      fill: #174EA6;\n",
              "    }\n",
              "\n",
              "    [theme=dark] .colab-df-convert {\n",
              "      background-color: #3B4455;\n",
              "      fill: #D2E3FC;\n",
              "    }\n",
              "\n",
              "    [theme=dark] .colab-df-convert:hover {\n",
              "      background-color: #434B5C;\n",
              "      box-shadow: 0px 1px 3px 1px rgba(0, 0, 0, 0.15);\n",
              "      filter: drop-shadow(0px 1px 2px rgba(0, 0, 0, 0.3));\n",
              "      fill: #FFFFFF;\n",
              "    }\n",
              "  </style>\n",
              "\n",
              "      <script>\n",
              "        const buttonEl =\n",
              "          document.querySelector('#df-6e2e1429-3f52-4e31-a66e-681d591f25dc button.colab-df-convert');\n",
              "        buttonEl.style.display =\n",
              "          google.colab.kernel.accessAllowed ? 'block' : 'none';\n",
              "\n",
              "        async function convertToInteractive(key) {\n",
              "          const element = document.querySelector('#df-6e2e1429-3f52-4e31-a66e-681d591f25dc');\n",
              "          const dataTable =\n",
              "            await google.colab.kernel.invokeFunction('convertToInteractive',\n",
              "                                                     [key], {});\n",
              "          if (!dataTable) return;\n",
              "\n",
              "          const docLinkHtml = 'Like what you see? Visit the ' +\n",
              "            '<a target=\"_blank\" href=https://colab.research.google.com/notebooks/data_table.ipynb>data table notebook</a>'\n",
              "            + ' to learn more about interactive tables.';\n",
              "          element.innerHTML = '';\n",
              "          dataTable['output_type'] = 'display_data';\n",
              "          await google.colab.output.renderOutput(dataTable, element);\n",
              "          const docLink = document.createElement('div');\n",
              "          docLink.innerHTML = docLinkHtml;\n",
              "          element.appendChild(docLink);\n",
              "        }\n",
              "      </script>\n",
              "    </div>\n",
              "  </div>\n",
              "  "
            ]
          },
          "metadata": {}
        }
      ],
      "source": [
        "# Step 9: Print the frequent itemsets and association rules\n",
        "\n",
        "# Create a bar plot of the frequent itemsets\n",
        "plt.bar(range(len(frequent_itemsets)), frequent_itemsets['support'], tick_label=frequent_itemsets['itemsets'])\n",
        "plt.xlabel('Frequent Itemsets')\n",
        "plt.ylabel('Support')\n",
        "plt.title('Frequent Itemsets')\n",
        "\n",
        "# Show the plot\n",
        "plt.show()\n",
        "\n",
        "#print the data received\n",
        "print(\"Frequent Itemsets:\")\n",
        "display(frequent_itemsets)"
      ]
    },
    {
      "cell_type": "markdown",
      "metadata": {
        "id": "AwH8i9kg9r3s"
      },
      "source": [
        "Print the association rules using print(rules)."
      ]
    },
    {
      "cell_type": "code",
      "execution_count": 15,
      "metadata": {
        "colab": {
          "base_uri": "https://localhost:8080/",
          "height": 458
        },
        "id": "9DKDtnYE9sdJ",
        "outputId": "1e6efd04-245c-43ba-a718-a68c8625d0cd"
      },
      "outputs": [
        {
          "output_type": "stream",
          "name": "stdout",
          "text": [
            "\n",
            "Association Rules:\n"
          ]
        },
        {
          "output_type": "display_data",
          "data": {
            "text/plain": [
              "                 antecedents                               consequents  \\\n",
              "0                       (10)                                (Employed)   \n",
              "1                       (10)                                     (Gas)   \n",
              "2                       (10)                             (Gas Station)   \n",
              "3                       (10)                                    (Male)   \n",
              "4                       (10)                                  (Nakuru)   \n",
              "...                      ...                                       ...   \n",
              "1778          (Male, Nakuru)     (Employed, Married, Gas, Gas Station)   \n",
              "1779          (Married, Gas)     (Employed, Male, Nakuru, Gas Station)   \n",
              "1780  (Married, Gas Station)             (Employed, Gas, Male, Nakuru)   \n",
              "1781             (Male, Gas)  (Employed, Married, Nakuru, Gas Station)   \n",
              "1782     (Male, Gas Station)          (Employed, Married, Gas, Nakuru)   \n",
              "\n",
              "      antecedent support  consequent support   support  confidence      lift  \\\n",
              "0               0.152174            0.586957  0.130435    0.857143  1.460317   \n",
              "1               0.152174            0.195652  0.130435    0.857143  4.380952   \n",
              "2               0.152174            0.195652  0.130435    0.857143  4.380952   \n",
              "3               0.152174            0.391304  0.130435    0.857143  2.190476   \n",
              "4               0.152174            0.195652  0.130435    0.857143  4.380952   \n",
              "...                  ...                 ...       ...         ...       ...   \n",
              "1778            0.152174            0.108696  0.108696    0.714286  6.571429   \n",
              "1779            0.108696            0.152174  0.108696    1.000000  6.571429   \n",
              "1780            0.108696            0.152174  0.108696    1.000000  6.571429   \n",
              "1781            0.152174            0.108696  0.108696    0.714286  6.571429   \n",
              "1782            0.152174            0.108696  0.108696    0.714286  6.571429   \n",
              "\n",
              "      leverage  conviction  \n",
              "0     0.041115    2.891304  \n",
              "1     0.100662    5.630435  \n",
              "2     0.100662    5.630435  \n",
              "3     0.070888    4.260870  \n",
              "4     0.100662    5.630435  \n",
              "...        ...         ...  \n",
              "1778  0.092155    3.119565  \n",
              "1779  0.092155         inf  \n",
              "1780  0.092155         inf  \n",
              "1781  0.092155    3.119565  \n",
              "1782  0.092155    3.119565  \n",
              "\n",
              "[1783 rows x 9 columns]"
            ],
            "text/html": [
              "\n",
              "  <div id=\"df-abff7761-4d22-4be4-a131-b51864880794\">\n",
              "    <div class=\"colab-df-container\">\n",
              "      <div>\n",
              "<style scoped>\n",
              "    .dataframe tbody tr th:only-of-type {\n",
              "        vertical-align: middle;\n",
              "    }\n",
              "\n",
              "    .dataframe tbody tr th {\n",
              "        vertical-align: top;\n",
              "    }\n",
              "\n",
              "    .dataframe thead th {\n",
              "        text-align: right;\n",
              "    }\n",
              "</style>\n",
              "<table border=\"1\" class=\"dataframe\">\n",
              "  <thead>\n",
              "    <tr style=\"text-align: right;\">\n",
              "      <th></th>\n",
              "      <th>antecedents</th>\n",
              "      <th>consequents</th>\n",
              "      <th>antecedent support</th>\n",
              "      <th>consequent support</th>\n",
              "      <th>support</th>\n",
              "      <th>confidence</th>\n",
              "      <th>lift</th>\n",
              "      <th>leverage</th>\n",
              "      <th>conviction</th>\n",
              "    </tr>\n",
              "  </thead>\n",
              "  <tbody>\n",
              "    <tr>\n",
              "      <th>0</th>\n",
              "      <td>(10)</td>\n",
              "      <td>(Employed)</td>\n",
              "      <td>0.152174</td>\n",
              "      <td>0.586957</td>\n",
              "      <td>0.130435</td>\n",
              "      <td>0.857143</td>\n",
              "      <td>1.460317</td>\n",
              "      <td>0.041115</td>\n",
              "      <td>2.891304</td>\n",
              "    </tr>\n",
              "    <tr>\n",
              "      <th>1</th>\n",
              "      <td>(10)</td>\n",
              "      <td>(Gas)</td>\n",
              "      <td>0.152174</td>\n",
              "      <td>0.195652</td>\n",
              "      <td>0.130435</td>\n",
              "      <td>0.857143</td>\n",
              "      <td>4.380952</td>\n",
              "      <td>0.100662</td>\n",
              "      <td>5.630435</td>\n",
              "    </tr>\n",
              "    <tr>\n",
              "      <th>2</th>\n",
              "      <td>(10)</td>\n",
              "      <td>(Gas Station)</td>\n",
              "      <td>0.152174</td>\n",
              "      <td>0.195652</td>\n",
              "      <td>0.130435</td>\n",
              "      <td>0.857143</td>\n",
              "      <td>4.380952</td>\n",
              "      <td>0.100662</td>\n",
              "      <td>5.630435</td>\n",
              "    </tr>\n",
              "    <tr>\n",
              "      <th>3</th>\n",
              "      <td>(10)</td>\n",
              "      <td>(Male)</td>\n",
              "      <td>0.152174</td>\n",
              "      <td>0.391304</td>\n",
              "      <td>0.130435</td>\n",
              "      <td>0.857143</td>\n",
              "      <td>2.190476</td>\n",
              "      <td>0.070888</td>\n",
              "      <td>4.260870</td>\n",
              "    </tr>\n",
              "    <tr>\n",
              "      <th>4</th>\n",
              "      <td>(10)</td>\n",
              "      <td>(Nakuru)</td>\n",
              "      <td>0.152174</td>\n",
              "      <td>0.195652</td>\n",
              "      <td>0.130435</td>\n",
              "      <td>0.857143</td>\n",
              "      <td>4.380952</td>\n",
              "      <td>0.100662</td>\n",
              "      <td>5.630435</td>\n",
              "    </tr>\n",
              "    <tr>\n",
              "      <th>...</th>\n",
              "      <td>...</td>\n",
              "      <td>...</td>\n",
              "      <td>...</td>\n",
              "      <td>...</td>\n",
              "      <td>...</td>\n",
              "      <td>...</td>\n",
              "      <td>...</td>\n",
              "      <td>...</td>\n",
              "      <td>...</td>\n",
              "    </tr>\n",
              "    <tr>\n",
              "      <th>1778</th>\n",
              "      <td>(Male, Nakuru)</td>\n",
              "      <td>(Employed, Married, Gas, Gas Station)</td>\n",
              "      <td>0.152174</td>\n",
              "      <td>0.108696</td>\n",
              "      <td>0.108696</td>\n",
              "      <td>0.714286</td>\n",
              "      <td>6.571429</td>\n",
              "      <td>0.092155</td>\n",
              "      <td>3.119565</td>\n",
              "    </tr>\n",
              "    <tr>\n",
              "      <th>1779</th>\n",
              "      <td>(Married, Gas)</td>\n",
              "      <td>(Employed, Male, Nakuru, Gas Station)</td>\n",
              "      <td>0.108696</td>\n",
              "      <td>0.152174</td>\n",
              "      <td>0.108696</td>\n",
              "      <td>1.000000</td>\n",
              "      <td>6.571429</td>\n",
              "      <td>0.092155</td>\n",
              "      <td>inf</td>\n",
              "    </tr>\n",
              "    <tr>\n",
              "      <th>1780</th>\n",
              "      <td>(Married, Gas Station)</td>\n",
              "      <td>(Employed, Gas, Male, Nakuru)</td>\n",
              "      <td>0.108696</td>\n",
              "      <td>0.152174</td>\n",
              "      <td>0.108696</td>\n",
              "      <td>1.000000</td>\n",
              "      <td>6.571429</td>\n",
              "      <td>0.092155</td>\n",
              "      <td>inf</td>\n",
              "    </tr>\n",
              "    <tr>\n",
              "      <th>1781</th>\n",
              "      <td>(Male, Gas)</td>\n",
              "      <td>(Employed, Married, Nakuru, Gas Station)</td>\n",
              "      <td>0.152174</td>\n",
              "      <td>0.108696</td>\n",
              "      <td>0.108696</td>\n",
              "      <td>0.714286</td>\n",
              "      <td>6.571429</td>\n",
              "      <td>0.092155</td>\n",
              "      <td>3.119565</td>\n",
              "    </tr>\n",
              "    <tr>\n",
              "      <th>1782</th>\n",
              "      <td>(Male, Gas Station)</td>\n",
              "      <td>(Employed, Married, Gas, Nakuru)</td>\n",
              "      <td>0.152174</td>\n",
              "      <td>0.108696</td>\n",
              "      <td>0.108696</td>\n",
              "      <td>0.714286</td>\n",
              "      <td>6.571429</td>\n",
              "      <td>0.092155</td>\n",
              "      <td>3.119565</td>\n",
              "    </tr>\n",
              "  </tbody>\n",
              "</table>\n",
              "<p>1783 rows × 9 columns</p>\n",
              "</div>\n",
              "      <button class=\"colab-df-convert\" onclick=\"convertToInteractive('df-abff7761-4d22-4be4-a131-b51864880794')\"\n",
              "              title=\"Convert this dataframe to an interactive table.\"\n",
              "              style=\"display:none;\">\n",
              "        \n",
              "  <svg xmlns=\"http://www.w3.org/2000/svg\" height=\"24px\"viewBox=\"0 0 24 24\"\n",
              "       width=\"24px\">\n",
              "    <path d=\"M0 0h24v24H0V0z\" fill=\"none\"/>\n",
              "    <path d=\"M18.56 5.44l.94 2.06.94-2.06 2.06-.94-2.06-.94-.94-2.06-.94 2.06-2.06.94zm-11 1L8.5 8.5l.94-2.06 2.06-.94-2.06-.94L8.5 2.5l-.94 2.06-2.06.94zm10 10l.94 2.06.94-2.06 2.06-.94-2.06-.94-.94-2.06-.94 2.06-2.06.94z\"/><path d=\"M17.41 7.96l-1.37-1.37c-.4-.4-.92-.59-1.43-.59-.52 0-1.04.2-1.43.59L10.3 9.45l-7.72 7.72c-.78.78-.78 2.05 0 2.83L4 21.41c.39.39.9.59 1.41.59.51 0 1.02-.2 1.41-.59l7.78-7.78 2.81-2.81c.8-.78.8-2.07 0-2.86zM5.41 20L4 18.59l7.72-7.72 1.47 1.35L5.41 20z\"/>\n",
              "  </svg>\n",
              "      </button>\n",
              "      \n",
              "  <style>\n",
              "    .colab-df-container {\n",
              "      display:flex;\n",
              "      flex-wrap:wrap;\n",
              "      gap: 12px;\n",
              "    }\n",
              "\n",
              "    .colab-df-convert {\n",
              "      background-color: #E8F0FE;\n",
              "      border: none;\n",
              "      border-radius: 50%;\n",
              "      cursor: pointer;\n",
              "      display: none;\n",
              "      fill: #1967D2;\n",
              "      height: 32px;\n",
              "      padding: 0 0 0 0;\n",
              "      width: 32px;\n",
              "    }\n",
              "\n",
              "    .colab-df-convert:hover {\n",
              "      background-color: #E2EBFA;\n",
              "      box-shadow: 0px 1px 2px rgba(60, 64, 67, 0.3), 0px 1px 3px 1px rgba(60, 64, 67, 0.15);\n",
              "      fill: #174EA6;\n",
              "    }\n",
              "\n",
              "    [theme=dark] .colab-df-convert {\n",
              "      background-color: #3B4455;\n",
              "      fill: #D2E3FC;\n",
              "    }\n",
              "\n",
              "    [theme=dark] .colab-df-convert:hover {\n",
              "      background-color: #434B5C;\n",
              "      box-shadow: 0px 1px 3px 1px rgba(0, 0, 0, 0.15);\n",
              "      filter: drop-shadow(0px 1px 2px rgba(0, 0, 0, 0.3));\n",
              "      fill: #FFFFFF;\n",
              "    }\n",
              "  </style>\n",
              "\n",
              "      <script>\n",
              "        const buttonEl =\n",
              "          document.querySelector('#df-abff7761-4d22-4be4-a131-b51864880794 button.colab-df-convert');\n",
              "        buttonEl.style.display =\n",
              "          google.colab.kernel.accessAllowed ? 'block' : 'none';\n",
              "\n",
              "        async function convertToInteractive(key) {\n",
              "          const element = document.querySelector('#df-abff7761-4d22-4be4-a131-b51864880794');\n",
              "          const dataTable =\n",
              "            await google.colab.kernel.invokeFunction('convertToInteractive',\n",
              "                                                     [key], {});\n",
              "          if (!dataTable) return;\n",
              "\n",
              "          const docLinkHtml = 'Like what you see? Visit the ' +\n",
              "            '<a target=\"_blank\" href=https://colab.research.google.com/notebooks/data_table.ipynb>data table notebook</a>'\n",
              "            + ' to learn more about interactive tables.';\n",
              "          element.innerHTML = '';\n",
              "          dataTable['output_type'] = 'display_data';\n",
              "          await google.colab.output.renderOutput(dataTable, element);\n",
              "          const docLink = document.createElement('div');\n",
              "          docLink.innerHTML = docLinkHtml;\n",
              "          element.appendChild(docLink);\n",
              "        }\n",
              "      </script>\n",
              "    </div>\n",
              "  </div>\n",
              "  "
            ]
          },
          "metadata": {}
        }
      ],
      "source": [
        "print(\"\\nAssociation Rules:\")\n",
        "display(rules)"
      ]
    },
    {
      "cell_type": "markdown",
      "metadata": {
        "id": "olDWzPW0_Hmt"
      },
      "source": [
        "Export the data into an excel sheet"
      ]
    },
    {
      "cell_type": "code",
      "execution_count": null,
      "metadata": {
        "id": "ZEnG8u59_Me0"
      },
      "outputs": [],
      "source": [
        "# Export the association rules DataFrame to an Excel file\n",
        "output_file = 'output.xlsx'\n",
        "rules.to_excel(output_file, index=False)"
      ]
    },
    {
      "cell_type": "markdown",
      "metadata": {
        "id": "bL4P4SQgAYjV"
      },
      "source": [
        "# Display a download link for the Excel file"
      ]
    },
    {
      "cell_type": "code",
      "execution_count": null,
      "metadata": {
        "colab": {
          "base_uri": "https://localhost:8080/",
          "height": 34
        },
        "id": "gEfI_AwEAaKd",
        "outputId": "0dd21dad-508e-4839-a5ab-fee88d7121bc"
      },
      "outputs": [
        {
          "output_type": "display_data",
          "data": {
            "text/plain": [
              "/content/output.xlsx"
            ],
            "text/html": [
              "<a href='output.xlsx' target='_blank'>output.xlsx</a><br>"
            ]
          },
          "metadata": {}
        }
      ],
      "source": [
        "display(FileLink(output_file))\n",
        "#Not working yet, opening a new tab on browser but link is localhost.\n",
        "#Incomplete"
      ]
    }
  ],
  "metadata": {
    "colab": {
      "provenance": []
    },
    "kernelspec": {
      "display_name": "Python 3",
      "name": "python3"
    },
    "language_info": {
      "name": "python"
    }
  },
  "nbformat": 4,
  "nbformat_minor": 0
}